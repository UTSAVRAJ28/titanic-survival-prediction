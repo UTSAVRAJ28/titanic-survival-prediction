{
 "cells": [
  {
   "cell_type": "code",
   "execution_count": 1,
   "metadata": {},
   "outputs": [],
   "source": [
    "import pandas as pd\n",
    "from sklearn.model_selection import train_test_split, GridSearchCV\n",
    "from sklearn.impute import SimpleImputer\n",
    "from sklearn.preprocessing import OneHotEncoder\n",
    "from sklearn.svm import SVC\n",
    "from sklearn.neural_network import MLPClassifier\n",
    "from sklearn.ensemble import RandomForestClassifier\n",
    "from sklearn.metrics import accuracy_score\n",
    "import matplotlib.pyplot as plt"
   ]
  },
  {
   "cell_type": "markdown",
   "metadata": {},
   "source": [
    "DATA PREPROCESSING"
   ]
  },
  {
   "cell_type": "code",
   "execution_count": 2,
   "metadata": {},
   "outputs": [],
   "source": [
    "# Load datasets in the folder that you are saving the train.csv and test.csv\n",
    "train_data = pd.read_csv(\"/Users/salonikhatu/Desktop/589 ML/Project/titanic/train.csv\")\n",
    "test_data = pd.read_csv(\"/Users/salonikhatu/Desktop/589 ML/Project/titanic/test.csv\")"
   ]
  },
  {
   "cell_type": "code",
   "execution_count": 3,
   "metadata": {},
   "outputs": [
    {
     "name": "stdout",
     "output_type": "stream",
     "text": [
      "0      22.0\n",
      "1      38.0\n",
      "2      26.0\n",
      "3      35.0\n",
      "4      35.0\n",
      "       ... \n",
      "886    27.0\n",
      "887    19.0\n",
      "888    28.0\n",
      "889    26.0\n",
      "890    32.0\n",
      "Name: Age, Length: 891, dtype: float64\n",
      "0       7.2500\n",
      "1      71.2833\n",
      "2       7.9250\n",
      "3      53.1000\n",
      "4       8.0500\n",
      "        ...   \n",
      "886    13.0000\n",
      "887    30.0000\n",
      "888    23.4500\n",
      "889    30.0000\n",
      "890     7.7500\n",
      "Name: Fare, Length: 891, dtype: float64\n"
     ]
    }
   ],
   "source": [
    "# Handle missing values in the training set\n",
    "imputer_age = SimpleImputer(strategy='median')\n",
    "train_data['Age'] = imputer_age.fit_transform(train_data[['Age']])\n",
    "print(train_data['Age'])\n",
    "imputer_fare = SimpleImputer(strategy='median')\n",
    "train_data['Fare'] = imputer_fare.fit_transform(train_data[['Fare']])\n",
    "print(train_data['Fare'])"
   ]
  },
  {
   "cell_type": "code",
   "execution_count": 4,
   "metadata": {},
   "outputs": [
    {
     "name": "stdout",
     "output_type": "stream",
     "text": [
      "       0    1    2    3\n",
      "0    1.0  0.0  1.0  0.0\n",
      "1    0.0  0.0  0.0  0.0\n",
      "2    0.0  0.0  1.0  0.0\n",
      "3    0.0  0.0  1.0  0.0\n",
      "4    1.0  0.0  1.0  0.0\n",
      "..   ...  ...  ...  ...\n",
      "886  1.0  0.0  1.0  0.0\n",
      "887  0.0  0.0  1.0  0.0\n",
      "888  0.0  0.0  1.0  0.0\n",
      "889  1.0  0.0  0.0  0.0\n",
      "890  1.0  1.0  0.0  0.0\n",
      "\n",
      "[891 rows x 4 columns]\n"
     ]
    },
    {
     "name": "stderr",
     "output_type": "stream",
     "text": [
      "/Users/salonikhatu/anaconda3/envs/jax_env/lib/python3.11/site-packages/sklearn/preprocessing/_encoders.py:975: FutureWarning: `sparse` was renamed to `sparse_output` in version 1.2 and will be removed in 1.4. `sparse_output` is ignored unless you leave `sparse` to its default value.\n",
      "  warnings.warn(\n"
     ]
    }
   ],
   "source": [
    "# Convert categorical variables to numerical representations in the training set\n",
    "encoder = OneHotEncoder(drop='first', sparse=False)\n",
    "train_encoded = pd.DataFrame(encoder.fit_transform(train_data[['Sex', 'Embarked']]))\n",
    "print(train_encoded)"
   ]
  },
  {
   "cell_type": "code",
   "execution_count": 5,
   "metadata": {},
   "outputs": [
    {
     "name": "stdout",
     "output_type": "stream",
     "text": [
      "     PassengerId  Survived  Pclass  \\\n",
      "0              1         0       3   \n",
      "1              2         1       1   \n",
      "2              3         1       3   \n",
      "3              4         1       1   \n",
      "4              5         0       3   \n",
      "..           ...       ...     ...   \n",
      "886          887         0       2   \n",
      "887          888         1       1   \n",
      "888          889         0       3   \n",
      "889          890         1       1   \n",
      "890          891         0       3   \n",
      "\n",
      "                                                  Name     Sex   Age  SibSp  \\\n",
      "0                              Braund, Mr. Owen Harris    male  22.0      1   \n",
      "1    Cumings, Mrs. John Bradley (Florence Briggs Th...  female  38.0      1   \n",
      "2                               Heikkinen, Miss. Laina  female  26.0      0   \n",
      "3         Futrelle, Mrs. Jacques Heath (Lily May Peel)  female  35.0      1   \n",
      "4                             Allen, Mr. William Henry    male  35.0      0   \n",
      "..                                                 ...     ...   ...    ...   \n",
      "886                              Montvila, Rev. Juozas    male  27.0      0   \n",
      "887                       Graham, Miss. Margaret Edith  female  19.0      0   \n",
      "888           Johnston, Miss. Catherine Helen \"Carrie\"  female  28.0      1   \n",
      "889                              Behr, Mr. Karl Howell    male  26.0      0   \n",
      "890                                Dooley, Mr. Patrick    male  32.0      0   \n",
      "\n",
      "     Parch            Ticket     Fare Cabin Embarked    0    1    2    3  \n",
      "0        0         A/5 21171   7.2500   NaN        S  1.0  0.0  1.0  0.0  \n",
      "1        0          PC 17599  71.2833   C85        C  0.0  0.0  0.0  0.0  \n",
      "2        0  STON/O2. 3101282   7.9250   NaN        S  0.0  0.0  1.0  0.0  \n",
      "3        0            113803  53.1000  C123        S  0.0  0.0  1.0  0.0  \n",
      "4        0            373450   8.0500   NaN        S  1.0  0.0  1.0  0.0  \n",
      "..     ...               ...      ...   ...      ...  ...  ...  ...  ...  \n",
      "886      0            211536  13.0000   NaN        S  1.0  0.0  1.0  0.0  \n",
      "887      0            112053  30.0000   B42        S  0.0  0.0  1.0  0.0  \n",
      "888      2        W./C. 6607  23.4500   NaN        S  0.0  0.0  1.0  0.0  \n",
      "889      0            111369  30.0000  C148        C  1.0  0.0  0.0  0.0  \n",
      "890      0            370376   7.7500   NaN        Q  1.0  1.0  0.0  0.0  \n",
      "\n",
      "[891 rows x 16 columns]\n"
     ]
    }
   ],
   "source": [
    "# Concatenate encoded features with the original data in the training set\n",
    "train_data = pd.concat([train_data, train_encoded], axis=1)\n",
    "print(train_data)"
   ]
  },
  {
   "cell_type": "code",
   "execution_count": 6,
   "metadata": {},
   "outputs": [
    {
     "name": "stdout",
     "output_type": "stream",
     "text": [
      "     PassengerId  Survived  Pclass   Age     Fare    0    1    2    3\n",
      "0              1         0       3  22.0   7.2500  1.0  0.0  1.0  0.0\n",
      "1              2         1       1  38.0  71.2833  0.0  0.0  0.0  0.0\n",
      "2              3         1       3  26.0   7.9250  0.0  0.0  1.0  0.0\n",
      "3              4         1       1  35.0  53.1000  0.0  0.0  1.0  0.0\n",
      "4              5         0       3  35.0   8.0500  1.0  0.0  1.0  0.0\n",
      "..           ...       ...     ...   ...      ...  ...  ...  ...  ...\n",
      "886          887         0       2  27.0  13.0000  1.0  0.0  1.0  0.0\n",
      "887          888         1       1  19.0  30.0000  0.0  0.0  1.0  0.0\n",
      "888          889         0       3  28.0  23.4500  0.0  0.0  1.0  0.0\n",
      "889          890         1       1  26.0  30.0000  1.0  0.0  0.0  0.0\n",
      "890          891         0       3  32.0   7.7500  1.0  1.0  0.0  0.0\n",
      "\n",
      "[891 rows x 9 columns]\n"
     ]
    }
   ],
   "source": [
    "# Drop irrelevant columns in the training set\n",
    "columns_to_drop = ['Name', 'Ticket', 'Cabin', 'Sex', 'Embarked', 'SibSp', 'Parch']\n",
    "train_data.drop(columns_to_drop, axis=1, inplace=True)\n",
    "print(train_data)"
   ]
  },
  {
   "cell_type": "code",
   "execution_count": 7,
   "metadata": {},
   "outputs": [
    {
     "name": "stdout",
     "output_type": "stream",
     "text": [
      "     PassengerId  Pclass   Age     Fare    0    1    2    3\n",
      "0              1       3  22.0   7.2500  1.0  0.0  1.0  0.0\n",
      "1              2       1  38.0  71.2833  0.0  0.0  0.0  0.0\n",
      "2              3       3  26.0   7.9250  0.0  0.0  1.0  0.0\n",
      "3              4       1  35.0  53.1000  0.0  0.0  1.0  0.0\n",
      "4              5       3  35.0   8.0500  1.0  0.0  1.0  0.0\n",
      "..           ...     ...   ...      ...  ...  ...  ...  ...\n",
      "886          887       2  27.0  13.0000  1.0  0.0  1.0  0.0\n",
      "887          888       1  19.0  30.0000  0.0  0.0  1.0  0.0\n",
      "888          889       3  28.0  23.4500  0.0  0.0  1.0  0.0\n",
      "889          890       1  26.0  30.0000  1.0  0.0  0.0  0.0\n",
      "890          891       3  32.0   7.7500  1.0  1.0  0.0  0.0\n",
      "\n",
      "[891 rows x 8 columns]\n",
      "0      0\n",
      "1      1\n",
      "2      1\n",
      "3      1\n",
      "4      0\n",
      "      ..\n",
      "886    0\n",
      "887    1\n",
      "888    0\n",
      "889    1\n",
      "890    0\n",
      "Name: Survived, Length: 891, dtype: int64\n"
     ]
    }
   ],
   "source": [
    "# Split the training data into the training set\n",
    "X = train_data.drop('Survived', axis=1)\n",
    "y = train_data['Survived']\n",
    "X_train, X_valid, y_train, y_valid = train_test_split(X, y, test_size=0.2, random_state=42)\n",
    "print(X)\n",
    "print(y)"
   ]
  },
  {
   "cell_type": "code",
   "execution_count": 8,
   "metadata": {},
   "outputs": [
    {
     "name": "stdout",
     "output_type": "stream",
     "text": [
      "     PassengerId  Pclass                                          Name  \\\n",
      "0            892       3                              Kelly, Mr. James   \n",
      "1            893       3              Wilkes, Mrs. James (Ellen Needs)   \n",
      "2            894       2                     Myles, Mr. Thomas Francis   \n",
      "3            895       3                              Wirz, Mr. Albert   \n",
      "4            896       3  Hirvonen, Mrs. Alexander (Helga E Lindqvist)   \n",
      "..           ...     ...                                           ...   \n",
      "413         1305       3                            Spector, Mr. Woolf   \n",
      "414         1306       1                  Oliva y Ocana, Dona. Fermina   \n",
      "415         1307       3                  Saether, Mr. Simon Sivertsen   \n",
      "416         1308       3                           Ware, Mr. Frederick   \n",
      "417         1309       3                      Peter, Master. Michael J   \n",
      "\n",
      "        Sex   Age  SibSp  Parch              Ticket      Fare Cabin Embarked  \n",
      "0      male  34.5      0      0              330911    7.8292   NaN        Q  \n",
      "1    female  47.0      1      0              363272    7.0000   NaN        S  \n",
      "2      male  62.0      0      0              240276    9.6875   NaN        Q  \n",
      "3      male  27.0      0      0              315154    8.6625   NaN        S  \n",
      "4    female  22.0      1      1             3101298   12.2875   NaN        S  \n",
      "..      ...   ...    ...    ...                 ...       ...   ...      ...  \n",
      "413    male  28.0      0      0           A.5. 3236    8.0500   NaN        S  \n",
      "414  female  39.0      0      0            PC 17758  108.9000  C105        C  \n",
      "415    male  38.5      0      0  SOTON/O.Q. 3101262    7.2500   NaN        S  \n",
      "416    male  28.0      0      0              359309    8.0500   NaN        S  \n",
      "417    male  28.0      1      1                2668   22.3583   NaN        C  \n",
      "\n",
      "[418 rows x 11 columns]\n"
     ]
    }
   ],
   "source": [
    "# Now handle missing values in the test set\n",
    "test_data['Age'] = imputer_age.transform(test_data[['Age']])\n",
    "test_data['Fare'] = imputer_fare.transform(test_data[['Fare']])\n",
    "print(test_data)"
   ]
  },
  {
   "cell_type": "code",
   "execution_count": 9,
   "metadata": {},
   "outputs": [
    {
     "name": "stdout",
     "output_type": "stream",
     "text": [
      "       0    1    2    3\n",
      "0    1.0  1.0  0.0  0.0\n",
      "1    0.0  0.0  1.0  0.0\n",
      "2    1.0  1.0  0.0  0.0\n",
      "3    1.0  0.0  1.0  0.0\n",
      "4    0.0  0.0  1.0  0.0\n",
      "..   ...  ...  ...  ...\n",
      "413  1.0  0.0  1.0  0.0\n",
      "414  0.0  0.0  0.0  0.0\n",
      "415  1.0  0.0  1.0  0.0\n",
      "416  1.0  0.0  1.0  0.0\n",
      "417  1.0  0.0  0.0  0.0\n",
      "\n",
      "[418 rows x 4 columns]\n"
     ]
    }
   ],
   "source": [
    "# Convert categorical variables to numerical representations in the test set\n",
    "test_encoded = pd.DataFrame(encoder.transform(test_data[['Sex', 'Embarked']]))\n",
    "print(test_encoded)"
   ]
  },
  {
   "cell_type": "code",
   "execution_count": 10,
   "metadata": {},
   "outputs": [],
   "source": [
    "# Concatenate encoded features with the original data in the test set\n",
    "test_data = pd.concat([test_data, test_encoded], axis=1)"
   ]
  },
  {
   "cell_type": "code",
   "execution_count": 11,
   "metadata": {},
   "outputs": [],
   "source": [
    "# Drop irrelevant columns in the test set\n",
    "test_data.drop(columns_to_drop, axis=1, inplace=True)\n",
    "test_data.columns = test_data.columns.astype(str) "
   ]
  },
  {
   "cell_type": "code",
   "execution_count": 12,
   "metadata": {},
   "outputs": [
    {
     "name": "stdout",
     "output_type": "stream",
     "text": [
      "     PassengerId  Pclass   Age      Fare    0    1    2    3\n",
      "331          332       1  45.5   28.5000  1.0  0.0  1.0  0.0\n",
      "733          734       2  23.0   13.0000  1.0  0.0  1.0  0.0\n",
      "382          383       3  32.0    7.9250  1.0  0.0  1.0  0.0\n",
      "704          705       3  26.0    7.8542  1.0  0.0  1.0  0.0\n",
      "813          814       3   6.0   31.2750  0.0  0.0  1.0  0.0\n",
      "..           ...     ...   ...       ...  ...  ...  ...  ...\n",
      "106          107       3  21.0    7.6500  0.0  0.0  1.0  0.0\n",
      "270          271       1  28.0   31.0000  1.0  0.0  1.0  0.0\n",
      "860          861       3  41.0   14.1083  1.0  0.0  1.0  0.0\n",
      "435          436       1  14.0  120.0000  0.0  0.0  1.0  0.0\n",
      "102          103       1  21.0   77.2875  1.0  0.0  1.0  0.0\n",
      "\n",
      "[712 rows x 8 columns]\n"
     ]
    }
   ],
   "source": [
    "# Convert feature names to strings\n",
    "X_train.columns = X_train.columns.astype(str)\n",
    "X_valid.columns = X_valid.columns.astype(str)\n",
    "print(X_train)"
   ]
  },
  {
   "cell_type": "markdown",
   "metadata": {},
   "source": [
    "MODEL IMPLEMENTATION"
   ]
  },
  {
   "cell_type": "code",
   "execution_count": 13,
   "metadata": {},
   "outputs": [],
   "source": [
    "# Hyperparameter tuning for Support Vector Machine\n",
    "svm_param_grid = {'C': [1, 10], 'gamma': [0.01, 0.1], 'kernel': ['linear', 'rbf']}\n",
    "svm_model = SVC()\n",
    "svm_grid_search = GridSearchCV(svm_model, svm_param_grid, cv=5, scoring='accuracy')\n",
    "svm_grid_search.fit(X_train, y_train)\n",
    "best_svm_model = svm_grid_search.best_estimator_"
   ]
  },
  {
   "cell_type": "code",
   "execution_count": 14,
   "metadata": {},
   "outputs": [
    {
     "name": "stderr",
     "output_type": "stream",
     "text": [
      "/Users/salonikhatu/anaconda3/envs/jax_env/lib/python3.11/site-packages/sklearn/neural_network/_multilayer_perceptron.py:691: ConvergenceWarning: Stochastic Optimizer: Maximum iterations (500) reached and the optimization hasn't converged yet.\n",
      "  warnings.warn(\n",
      "/Users/salonikhatu/anaconda3/envs/jax_env/lib/python3.11/site-packages/sklearn/neural_network/_multilayer_perceptron.py:691: ConvergenceWarning: Stochastic Optimizer: Maximum iterations (500) reached and the optimization hasn't converged yet.\n",
      "  warnings.warn(\n"
     ]
    }
   ],
   "source": [
    "# Hyperparameter tuning for Neural Network\n",
    "nn_param_grid = {'hidden_layer_sizes': [(50,), (100,)], 'activation': ['logistic', 'tanh']}\n",
    "nn_model = MLPClassifier(random_state=42, max_iter=500)\n",
    "nn_grid_search = GridSearchCV(nn_model, nn_param_grid, cv=5, scoring='accuracy')\n",
    "nn_grid_search.fit(X_train, y_train)\n",
    "best_nn_model = nn_grid_search.best_estimator_"
   ]
  },
  {
   "cell_type": "code",
   "execution_count": 15,
   "metadata": {},
   "outputs": [],
   "source": [
    "# Hyperparameter tuning for Random Forest\n",
    "rf_param_grid = {'n_estimators': [100, 200], 'max_depth': [None, 10], 'min_samples_split': [2, 5]}\n",
    "rf_model = RandomForestClassifier(random_state=42)\n",
    "rf_grid_search = GridSearchCV(rf_model, rf_param_grid, cv=5, scoring='accuracy')\n",
    "rf_grid_search.fit(X_train, y_train)\n",
    "best_rf_model = rf_grid_search.best_estimator_"
   ]
  },
  {
   "cell_type": "markdown",
   "metadata": {},
   "source": [
    "MODEL SELECTION"
   ]
  },
  {
   "cell_type": "code",
   "execution_count": 16,
   "metadata": {},
   "outputs": [],
   "source": [
    "# Use the selected models to make predictions on the test set\n",
    "final_preds_svm = best_svm_model.predict(X_valid)\n",
    "final_preds_nn = best_nn_model.predict(X_valid)\n",
    "final_preds_rf = best_rf_model.predict(X_valid)"
   ]
  },
  {
   "cell_type": "markdown",
   "metadata": {},
   "source": [
    "PERFORMANCE METRICS: CALCULATE ACCURACIES"
   ]
  },
  {
   "cell_type": "code",
   "execution_count": 17,
   "metadata": {},
   "outputs": [],
   "source": [
    "# Calculate accuracies\n",
    "accuracy_svm = accuracy_score(y_valid, final_preds_svm)\n",
    "accuracy_nn = accuracy_score(y_valid, final_preds_nn)\n",
    "accuracy_rf = accuracy_score(y_valid, final_preds_rf)"
   ]
  },
  {
   "cell_type": "code",
   "execution_count": 18,
   "metadata": {},
   "outputs": [],
   "source": [
    "# Use the selected models to make predictions on the test set\n",
    "final_preds_svm = best_svm_model.predict(test_data)\n",
    "final_preds_nn = best_nn_model.predict(test_data)\n",
    "final_preds_rf = best_rf_model.predict(test_data)"
   ]
  },
  {
   "cell_type": "code",
   "execution_count": 19,
   "metadata": {},
   "outputs": [],
   "source": [
    "# Create separate DataFrames for each model's predictions\n",
    "submission_svm = pd.DataFrame({'PassengerId': test_data['PassengerId'], 'Survived': final_preds_svm})\n",
    "submission_nn = pd.DataFrame({'PassengerId': test_data['PassengerId'], 'Survived': final_preds_nn})\n",
    "submission_rf = pd.DataFrame({'PassengerId': test_data['PassengerId'], 'Survived': final_preds_rf})"
   ]
  },
  {
   "cell_type": "markdown",
   "metadata": {},
   "source": [
    ".csv FILE GENERATION FOR EACH MODEL TO CHECK ACCURACY ON KAGGLE"
   ]
  },
  {
   "cell_type": "code",
   "execution_count": 20,
   "metadata": {},
   "outputs": [],
   "source": [
    "# Save the submission files for each model, these will be created upon execution into the folder that you want.\n",
    "submission_svm.to_csv('/Users/salonikhatu/Desktop/589 ML/Project/titanic/submission_svm.csv', index=False)\n",
    "submission_nn.to_csv('/Users/salonikhatu/Desktop/589 ML/Project/titanic/submission_nn.csv', index=False)\n",
    "submission_rf.to_csv('/Users/salonikhatu/Desktop/589 ML/Project/titanic/submission_rf.csv', index=False)"
   ]
  },
  {
   "cell_type": "code",
   "execution_count": 21,
   "metadata": {},
   "outputs": [
    {
     "name": "stdout",
     "output_type": "stream",
     "text": [
      "Support Vector Machine Accuracy: 0.7821229050279329\n",
      "Neural Network Accuracy: 0.7262569832402235\n",
      "Random Forest Accuracy: 0.8156424581005587\n"
     ]
    },
    {
     "data": {
      "image/png": "[encoded data removed]",
      "text/plain": [
       "<Figure size 640x480 with 1 Axes>"
      ]
     },
     "metadata": {},
     "output_type": "display_data"
    }
   ],
   "source": [
    "# Print accuracies\n",
    "print(\"Support Vector Machine Accuracy:\", accuracy_svm)\n",
    "print(\"Neural Network Accuracy:\", accuracy_nn)\n",
    "print(\"Random Forest Accuracy:\", accuracy_rf)\n",
    "\n",
    "# Plot accuracies\n",
    "models = ['Support Vector Machine', 'Neural Network', 'Random Forest']\n",
    "accuracies = [accuracy_svm, accuracy_nn, accuracy_rf]\n",
    "\n",
    "plt.bar(models, accuracies, color=['blue', 'orange', 'green'])\n",
    "plt.ylabel('Accuracy')\n",
    "plt.title('Model Accuracies')\n",
    "plt.ylim([0, 1])\n",
    "plt.show()"
   ]
  }
 ],
 "metadata": {
  "kernelspec": {
   "display_name": "jax_env",
   "language": "python",
   "name": "python3"
  },
  "language_info": {
   "codemirror_mode": {
    "name": "ipython",
    "version": 3
   },
   "file_extension": ".py",
   "mimetype": "text/x-python",
   "name": "python",
   "nbconvert_exporter": "python",
   "pygments_lexer": "ipython3",
   "version": "3.11.6"
  }
 },
 "nbformat": 4,
 "nbformat_minor": 2
}
